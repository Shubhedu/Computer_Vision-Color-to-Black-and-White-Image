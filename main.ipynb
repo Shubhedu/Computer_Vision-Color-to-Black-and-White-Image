import cv2
img = cv2.imread('download1.png')
grayImg = cv2.cvtColor(img,cv2.COLOR_BGR2GRAY)
thrsImg = cv2.threshold(grayImg,200,255,cv2.THRESH_BINARY)[1]
cv2.imwrite('ThresholdImg.png',thrsImg)
